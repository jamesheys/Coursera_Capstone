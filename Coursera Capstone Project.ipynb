{
    "cells": [
        {
            "cell_type": "markdown",
            "metadata": {
                "collapsed": true
            },
            "source": "This Notebook is for the Coursera Capstone Project for the IBM Data Science Professional Certificate."
        },
        {
            "cell_type": "code",
            "execution_count": 1,
            "metadata": {},
            "outputs": [],
            "source": "import pandas as PD\nimport numpy as np"
        },
        {
            "cell_type": "code",
            "execution_count": 2,
            "metadata": {},
            "outputs": [
                {
                    "name": "stdout",
                    "output_type": "stream",
                    "text": "Hello Capstone Project Course!\n"
                }
            ],
            "source": "print (\"Hello Capstone Project Course!\")"
        },
        {
            "cell_type": "markdown",
            "metadata": {},
            "source": "# Introduction\n\nIn this Capstone project I shall be using the Seattle Department of Trasport Collision data for the years 2004 - 2020 to predict the chances of a collision dependant on the weather and the location. Should there be a link this would allow apps like Waze to divert users around potential accident blackspots or warn them of the increased likelihood of an accident, and its severity, should an alternative route not be available. Users would then be able to take increased precautions or choose to travel at an alternative time."
        },
        {
            "cell_type": "markdown",
            "metadata": {},
            "source": "# Data\n\nCollision Data for Seattle from 2004 to 2020 was provided via this link  <https://s3.us.cloud-object-storage.appdomain.cloud/cf-courses-data/CognitiveClass/DP0701EN/version-2/Data-Collisions.csv>\n\nThe data set contains numerical and categorical data including the severity, location, date, description of collisions between 2004 and 2020 as well as the weather at the time of the collision. \n\nUsing the location, severity and weather data provide for each collision a model can be built to asceratin the relationship between the weather and collisions and furthermore identify any possible accident black"
        },
        {
            "cell_type": "code",
            "execution_count": null,
            "metadata": {},
            "outputs": [],
            "source": ""
        }
    ],
    "metadata": {
        "kernelspec": {
            "display_name": "Python 3.6",
            "language": "python",
            "name": "python3"
        },
        "language_info": {
            "codemirror_mode": {
                "name": "ipython",
                "version": 3
            },
            "file_extension": ".py",
            "mimetype": "text/x-python",
            "name": "python",
            "nbconvert_exporter": "python",
            "pygments_lexer": "ipython3",
            "version": "3.6.9"
        }
    },
    "nbformat": 4,
    "nbformat_minor": 1
}