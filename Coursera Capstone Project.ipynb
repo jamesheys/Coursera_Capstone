{
    "cells": [
        {
            "cell_type": "markdown",
            "metadata": {
                "collapsed": true
            },
            "source": "This Notebook is for the Coursera Capstone Project for the IBM Data Science Professional Certificate."
        },
        {
            "cell_type": "code",
            "execution_count": 6,
            "metadata": {},
            "outputs": [],
            "source": "import pandas as pd\nimport numpy as np"
        },
        {
            "cell_type": "code",
            "execution_count": 2,
            "metadata": {},
            "outputs": [
                {
                    "name": "stdout",
                    "output_type": "stream",
                    "text": "Hello Capstone Project Course!\n"
                }
            ],
            "source": "print (\"Hello Capstone Project Course!\")"
        },
        {
            "cell_type": "markdown",
            "metadata": {},
            "source": "# Introduction\n\nIn this Capstone project I shall be using the Seattle Department of Trasport Collision data for the years 2004 - 2020 to predict the chances of a collision dependant on the weather and the location. Should there be a link this would allow route planning apps like Waze to divert users around potential accident blackspots or warn them of the increased likelihood of an accident, and its severity, should an alternative route not be available. Users would then be able to take increased precautions or choose to travel at an alternative time."
        },
        {
            "cell_type": "markdown",
            "metadata": {},
            "source": "# Data\n\nCollision Data for Seattle from 2004 to 2020 was provided via this link:\n\n\n<https://s3.us.cloud-object-storage.appdomain.cloud/cf-courses-data/CognitiveClass/DP0701EN/version-2/Data-Collisions.csv>\n\nThe data set contains unbalanaced, numerical and categorical data including the severity, location, date, description of collisions between 2004 and 2020 as well as the weather at the time of the collision. \n\nUsing the location, severity and weather data provide for each collision a model can be built to asceratin the relationship between the weather and collisions and furthermore identify any possible accident blackspots allowing route planning apps to take this into account when provising directions to a user.\n\nA sample of the data can be seen below"
        },
        {
            "cell_type": "code",
            "execution_count": 9,
            "metadata": {},
            "outputs": [
                {
                    "name": "stderr",
                    "output_type": "stream",
                    "text": "/opt/conda/envs/Python36/lib/python3.6/site-packages/IPython/core/interactiveshell.py:3020: DtypeWarning: Columns (22) have mixed types. Specify dtype option on import or set low_memory=False.\n  interactivity=interactivity, compiler=compiler, result=result)\n"
                },
                {
                    "data": {
                        "text/html": "<div>\n<style scoped>\n    .dataframe tbody tr th:only-of-type {\n        vertical-align: middle;\n    }\n\n    .dataframe tbody tr th {\n        vertical-align: top;\n    }\n\n    .dataframe thead th {\n        text-align: right;\n    }\n</style>\n<table border=\"1\" class=\"dataframe\">\n  <thead>\n    <tr style=\"text-align: right;\">\n      <th></th>\n      <th>OBJECTID</th>\n      <th>Longitude</th>\n      <th>Latitude</th>\n      <th>ADDRTYPE</th>\n      <th>INTKEY</th>\n      <th>LOCATION</th>\n      <th>SEVERITYCODE</th>\n      <th>SEVERITYDESC</th>\n      <th>COLLISIONTYPE</th>\n      <th>PERSONCOUNT</th>\n      <th>...</th>\n      <th>INCDTTM</th>\n      <th>JUNCTIONTYPE</th>\n      <th>SDOT_COLCODE</th>\n      <th>SDOT_COLDESC</th>\n      <th>INATTENTIONIND</th>\n      <th>WEATHER</th>\n      <th>ROADCOND</th>\n      <th>LIGHTCOND</th>\n      <th>ST_COLCODE</th>\n      <th>ST_COLDESC</th>\n    </tr>\n  </thead>\n  <tbody>\n    <tr>\n      <th>0</th>\n      <td>1</td>\n      <td>-122.323148</td>\n      <td>47.703140</td>\n      <td>Intersection</td>\n      <td>37475.0</td>\n      <td>5TH AVE NE AND NE 103RD ST</td>\n      <td>2</td>\n      <td>Injury Collision</td>\n      <td>Angles</td>\n      <td>2</td>\n      <td>...</td>\n      <td>3/27/2013 2:54:00 PM</td>\n      <td>At Intersection (intersection related)</td>\n      <td>11</td>\n      <td>MOTOR VEHICLE STRUCK MOTOR VEHICLE, FRONT END ...</td>\n      <td>NaN</td>\n      <td>Overcast</td>\n      <td>Wet</td>\n      <td>Daylight</td>\n      <td>10</td>\n      <td>Entering at angle</td>\n    </tr>\n    <tr>\n      <th>1</th>\n      <td>2</td>\n      <td>-122.347294</td>\n      <td>47.647172</td>\n      <td>Block</td>\n      <td>NaN</td>\n      <td>AURORA BR BETWEEN RAYE ST AND BRIDGE WAY N</td>\n      <td>1</td>\n      <td>Property Damage Only Collision</td>\n      <td>Sideswipe</td>\n      <td>2</td>\n      <td>...</td>\n      <td>12/20/2006 6:55:00 PM</td>\n      <td>Mid-Block (not related to intersection)</td>\n      <td>16</td>\n      <td>MOTOR VEHICLE STRUCK MOTOR VEHICLE, LEFT SIDE ...</td>\n      <td>NaN</td>\n      <td>Raining</td>\n      <td>Wet</td>\n      <td>Dark - Street Lights On</td>\n      <td>11</td>\n      <td>From same direction - both going straight - bo...</td>\n    </tr>\n    <tr>\n      <th>2</th>\n      <td>3</td>\n      <td>-122.334540</td>\n      <td>47.607871</td>\n      <td>Block</td>\n      <td>NaN</td>\n      <td>4TH AVE BETWEEN SENECA ST AND UNIVERSITY ST</td>\n      <td>1</td>\n      <td>Property Damage Only Collision</td>\n      <td>Parked Car</td>\n      <td>4</td>\n      <td>...</td>\n      <td>11/18/2004 10:20:00 AM</td>\n      <td>Mid-Block (not related to intersection)</td>\n      <td>14</td>\n      <td>MOTOR VEHICLE STRUCK MOTOR VEHICLE, REAR END</td>\n      <td>NaN</td>\n      <td>Overcast</td>\n      <td>Dry</td>\n      <td>Daylight</td>\n      <td>32</td>\n      <td>One parked--one moving</td>\n    </tr>\n    <tr>\n      <th>3</th>\n      <td>4</td>\n      <td>-122.334803</td>\n      <td>47.604803</td>\n      <td>Block</td>\n      <td>NaN</td>\n      <td>2ND AVE BETWEEN MARION ST AND MADISON ST</td>\n      <td>1</td>\n      <td>Property Damage Only Collision</td>\n      <td>Other</td>\n      <td>3</td>\n      <td>...</td>\n      <td>3/29/2013 9:26:00 AM</td>\n      <td>Mid-Block (not related to intersection)</td>\n      <td>11</td>\n      <td>MOTOR VEHICLE STRUCK MOTOR VEHICLE, FRONT END ...</td>\n      <td>NaN</td>\n      <td>Clear</td>\n      <td>Dry</td>\n      <td>Daylight</td>\n      <td>23</td>\n      <td>From same direction - all others</td>\n    </tr>\n    <tr>\n      <th>4</th>\n      <td>5</td>\n      <td>-122.306426</td>\n      <td>47.545739</td>\n      <td>Intersection</td>\n      <td>34387.0</td>\n      <td>SWIFT AVE S AND SWIFT AV OFF RP</td>\n      <td>2</td>\n      <td>Injury Collision</td>\n      <td>Angles</td>\n      <td>2</td>\n      <td>...</td>\n      <td>1/28/2004 8:04:00 AM</td>\n      <td>At Intersection (intersection related)</td>\n      <td>11</td>\n      <td>MOTOR VEHICLE STRUCK MOTOR VEHICLE, FRONT END ...</td>\n      <td>NaN</td>\n      <td>Raining</td>\n      <td>Wet</td>\n      <td>Daylight</td>\n      <td>10</td>\n      <td>Entering at angle</td>\n    </tr>\n  </tbody>\n</table>\n<p>5 rows \u00d7 24 columns</p>\n</div>",
                        "text/plain": "   OBJECTID   Longitude   Latitude      ADDRTYPE   INTKEY  \\\n0         1 -122.323148  47.703140  Intersection  37475.0   \n1         2 -122.347294  47.647172         Block      NaN   \n2         3 -122.334540  47.607871         Block      NaN   \n3         4 -122.334803  47.604803         Block      NaN   \n4         5 -122.306426  47.545739  Intersection  34387.0   \n\n                                      LOCATION  SEVERITYCODE  \\\n0                   5TH AVE NE AND NE 103RD ST             2   \n1   AURORA BR BETWEEN RAYE ST AND BRIDGE WAY N             1   \n2  4TH AVE BETWEEN SENECA ST AND UNIVERSITY ST             1   \n3     2ND AVE BETWEEN MARION ST AND MADISON ST             1   \n4              SWIFT AVE S AND SWIFT AV OFF RP             2   \n\n                     SEVERITYDESC COLLISIONTYPE  PERSONCOUNT  ...  \\\n0                Injury Collision        Angles            2  ...   \n1  Property Damage Only Collision     Sideswipe            2  ...   \n2  Property Damage Only Collision    Parked Car            4  ...   \n3  Property Damage Only Collision         Other            3  ...   \n4                Injury Collision        Angles            2  ...   \n\n                  INCDTTM                             JUNCTIONTYPE  \\\n0    3/27/2013 2:54:00 PM   At Intersection (intersection related)   \n1   12/20/2006 6:55:00 PM  Mid-Block (not related to intersection)   \n2  11/18/2004 10:20:00 AM  Mid-Block (not related to intersection)   \n3    3/29/2013 9:26:00 AM  Mid-Block (not related to intersection)   \n4    1/28/2004 8:04:00 AM   At Intersection (intersection related)   \n\n   SDOT_COLCODE                                       SDOT_COLDESC  \\\n0            11  MOTOR VEHICLE STRUCK MOTOR VEHICLE, FRONT END ...   \n1            16  MOTOR VEHICLE STRUCK MOTOR VEHICLE, LEFT SIDE ...   \n2            14       MOTOR VEHICLE STRUCK MOTOR VEHICLE, REAR END   \n3            11  MOTOR VEHICLE STRUCK MOTOR VEHICLE, FRONT END ...   \n4            11  MOTOR VEHICLE STRUCK MOTOR VEHICLE, FRONT END ...   \n\n  INATTENTIONIND   WEATHER  ROADCOND                LIGHTCOND ST_COLCODE  \\\n0            NaN  Overcast       Wet                 Daylight         10   \n1            NaN   Raining       Wet  Dark - Street Lights On         11   \n2            NaN  Overcast       Dry                 Daylight         32   \n3            NaN     Clear       Dry                 Daylight         23   \n4            NaN   Raining       Wet                 Daylight         10   \n\n                                          ST_COLDESC  \n0                                  Entering at angle  \n1  From same direction - both going straight - bo...  \n2                             One parked--one moving  \n3                   From same direction - all others  \n4                                  Entering at angle  \n\n[5 rows x 24 columns]"
                    },
                    "execution_count": 9,
                    "metadata": {},
                    "output_type": "execute_result"
                }
            ],
            "source": "# The code was removed by Watson Studio for sharing."
        },
        {
            "cell_type": "code",
            "execution_count": null,
            "metadata": {},
            "outputs": [],
            "source": "\n"
        }
    ],
    "metadata": {
        "kernelspec": {
            "display_name": "Python 3.6",
            "language": "python",
            "name": "python3"
        },
        "language_info": {
            "codemirror_mode": {
                "name": "ipython",
                "version": 3
            },
            "file_extension": ".py",
            "mimetype": "text/x-python",
            "name": "python",
            "nbconvert_exporter": "python",
            "pygments_lexer": "ipython3",
            "version": "3.6.9"
        }
    },
    "nbformat": 4,
    "nbformat_minor": 1
}